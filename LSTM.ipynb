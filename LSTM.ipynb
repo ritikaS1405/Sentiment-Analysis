{
 "cells": [
  {
   "cell_type": "code",
   "execution_count": null,
   "id": "27d97d76",
   "metadata": {},
   "outputs": [],
   "source": [
    "import pandas as pd\n",
    "import numpy as np\n",
    "from keras.layers import LSTM, Activation, Dropout, Dense, Input\n",
    "from keras.layers.embeddings import Embedding\n",
    "from keras.models import Model\n",
    "import string\n",
    "import re\n",
    "from keras.preprocessing.text import Tokenizer\n",
    "from keras.preprocessing.sequence import pad_sequences\n",
    "import keras\n",
    "from sklearn.model_selection import train_test_split\n",
    "import tensorflow as tf \n",
    "import matplotlib.pyplot as plt\n",
    "from sklearn.metrics import confusion_matrix, accuracy_score, precision_recall_fscore_support"
   ]
  },
  {
   "cell_type": "code",
   "execution_count": null,
   "id": "401e92b1",
   "metadata": {},
   "outputs": [],
   "source": [
    "data = pd.read_csv('IMDB Dataset.csv')\n",
    "\n",
    "data['review'] = data['review'].str.lower()"
   ]
  },
  {
   "cell_type": "code",
   "execution_count": null,
   "id": "bb7fd3f9",
   "metadata": {},
   "outputs": [],
   "source": [
    "stopwords = [ \"a\", \"about\", \"above\", \"after\", \"again\", \"against\", \"all\", \"am\", \"an\", \"and\", \"any\", \"are\", \"as\", \"at\", \"be\", \"because\", \n",
    "             \"been\", \"before\", \"being\", \"below\", \"between\", \"both\", \"but\", \"by\", \"could\", \"did\", \"do\", \"does\", \"doing\", \"down\", \"during\",\n",
    "             \"each\", \"few\", \"for\", \"from\", \"further\", \"had\", \"has\", \"have\", \"having\", \"he\", \"he'd\", \"he'll\", \"he's\", \"her\", \"here\", \n",
    "             \"here's\", \"hers\", \"herself\", \"him\", \"himself\", \"his\", \"how\", \"how's\", \"i\", \"i'd\", \"i'll\", \"i'm\", \"i've\", \"if\", \"in\", \"into\",\n",
    "             \"is\", \"it\", \"it's\", \"its\", \"itself\", \"let's\", \"me\", \"more\", \"most\", \"my\", \"myself\", \"nor\", \"of\", \"on\", \"once\", \"only\", \"or\",\n",
    "             \"other\", \"ought\", \"our\", \"ours\", \"ourselves\", \"out\", \"over\", \"own\", \"same\", \"she\", \"she'd\", \"she'll\", \"she's\", \"should\", \n",
    "             \"so\", \"some\", \"such\", \"than\", \"that\", \"that's\", \"the\", \"their\", \"theirs\", \"them\", \"themselves\", \"then\", \"there\", \"there's\",\n",
    "             \"these\", \"they\", \"they'd\", \"they'll\", \"they're\", \"they've\", \"this\", \"those\", \"through\", \"to\", \"too\", \"under\", \"until\", \"up\",\n",
    "             \"very\", \"was\", \"we\", \"we'd\", \"we'll\", \"we're\", \"we've\", \"were\", \"what\", \"what's\", \"when\", \"when's\", \"where\", \"where's\",\n",
    "             \"which\", \"while\", \"who\", \"who's\", \"whom\", \"why\", \"why's\", \"with\", \"would\", \"you\", \"you'd\", \"you'll\", \"you're\", \"you've\",\n",
    "             \"your\", \"yours\", \"yourself\", \"yourselves\" ]"
   ]
  },
  {
   "cell_type": "code",
   "execution_count": null,
   "id": "ae3ceeaf",
   "metadata": {},
   "outputs": [],
   "source": [
    "def remove_stopwords(data):\n",
    "    data['review without stopwords'] = data['review'].apply(lambda x : ' '.join([word for word in x.split() if word not in (stopwords)]))\n",
    "    return data\n",
    "\n",
    "def remove_tags(string):\n",
    "    result = re.sub('<.*?>','',string)\n",
    "    return result"
   ]
  },
  {
   "cell_type": "code",
   "execution_count": null,
   "id": "78e85729",
   "metadata": {},
   "outputs": [],
   "source": [
    "data_without_stopwords = remove_stopwords(data)\n",
    "data_without_stopwords['clean_review']= data_without_stopwords['review without stopwords'].apply(lambda cw : remove_tags(cw))\n",
    "data_without_stopwords['clean_review'] = data_without_stopwords['clean_review'].str.replace('[{}]'.format(string.punctuation), ' ')"
   ]
  },
  {
   "cell_type": "code",
   "execution_count": null,
   "id": "668d93a4",
   "metadata": {},
   "outputs": [],
   "source": [
    "data_without_stopwords.head()"
   ]
  },
  {
   "cell_type": "code",
   "execution_count": null,
   "id": "35dbfec6",
   "metadata": {},
   "outputs": [],
   "source": [
    "reviews = data_without_stopwords['clean_review']\n",
    "reviews"
   ]
  },
  {
   "cell_type": "code",
   "execution_count": null,
   "id": "fb8f5d8a",
   "metadata": {},
   "outputs": [],
   "source": [
    "reviews_list = []\n",
    "for i in range(len(reviews)):\n",
    "    reviews_list.append(reviews[i])\n",
    "sentiment = data_without_stopwords['sentiment']\n",
    "y = np.array(list(map(lambda x: 1 if x==\"positive\" else 0, sentiment)))\n",
    "y"
   ]
  },
  {
   "cell_type": "code",
   "execution_count": null,
   "id": "02b4c296",
   "metadata": {},
   "outputs": [],
   "source": [
    "X_train, X_test,Y_train, Y_test = train_test_split(reviews_list, y, test_size=0.3, random_state = 45)\n",
    "len(Y_train)"
   ]
  },
  {
   "cell_type": "code",
   "execution_count": null,
   "id": "7533b4e2",
   "metadata": {},
   "outputs": [],
   "source": [
    "tokenizer = Tokenizer(num_words=5000)\n",
    "tokenizer.fit_on_texts(X_train)\n",
    "words_to_index = tokenizer.word_index\n",
    "maxLen = 150\n",
    "vocab_len = len(words_to_index)\n",
    "len(words_to_index)"
   ]
  },
  {
   "cell_type": "code",
   "execution_count": null,
   "id": "8163757a",
   "metadata": {},
   "outputs": [],
   "source": [
    "def read_glove_vector(glove_vec):\n",
    "    with open(glove_vec, 'r', encoding='UTF-8') as f:\n",
    "        words = set()\n",
    "        word_to_vec_map = {}\n",
    "        for line in f:\n",
    "            w_line = line.split()\n",
    "            curr_word = w_line[0]\n",
    "            word_to_vec_map[curr_word] = np.array(w_line[1:], dtype=np.float64)\n",
    "\n",
    "\n",
    "\n",
    "    return word_to_vec_map"
   ]
  },
  {
   "cell_type": "code",
   "execution_count": null,
   "id": "86c230f4",
   "metadata": {},
   "outputs": [],
   "source": [
    "word_to_vec_map = read_glove_vector('glove.6B.50d.txt')\n",
    "maxLen = 150\n",
    "vocab_len = len(words_to_index)\n",
    "embed_vector_len = word_to_vec_map['moon'].shape[0]\n",
    "\n",
    "emb_matrix = np.zeros((vocab_len, embed_vector_len))\n",
    "\n",
    "for word, index in words_to_index.items():\n",
    "    embedding_vector = word_to_vec_map.get(word)\n",
    "    if embedding_vector is not None:\n",
    "        emb_matrix[index, :] = embedding_vector\n",
    "\n",
    "embedding_layer = Embedding(input_dim=vocab_len, output_dim=embed_vector_len, input_length=maxLen, weights = [emb_matrix], trainable=False)"
   ]
  },
  {
   "cell_type": "code",
   "execution_count": null,
   "id": "3172bb6c",
   "metadata": {},
   "outputs": [],
   "source": [
    "def imdb_rating(input_shape):\n",
    "\n",
    "    \n",
    "    X_indices = Input(input_shape)\n",
    "\n",
    "    embeddings =  Embedding(input_dim=vocab_len, output_dim=50, input_length=maxLen)(X_indices)\n",
    "\n",
    "    X = LSTM(128, return_sequences=True)(embeddings)\n",
    "\n",
    "    X = Dropout(0.3)(X)\n",
    "\n",
    "    X = LSTM(128, return_sequences=True)(X)\n",
    "\n",
    "    X = Dropout(0.3)(X)\n",
    "\n",
    "    X = LSTM(128)(X)\n",
    "\n",
    "    X = Dense(1, activation='sigmoid')(X)\n",
    "\n",
    "    model = Model(inputs=X_indices, outputs=X)\n",
    "\n",
    "    return model"
   ]
  },
  {
   "cell_type": "code",
   "execution_count": null,
   "id": "fa33e5f3",
   "metadata": {},
   "outputs": [],
   "source": [
    "model = imdb_rating((maxLen,))\n",
    "model.summary()"
   ]
  },
  {
   "cell_type": "code",
   "execution_count": null,
   "id": "eb99d370",
   "metadata": {},
   "outputs": [],
   "source": [
    "X_train_indices = tokenizer.texts_to_sequences(X_train)\n",
    "X_train_indices = pad_sequences(X_train_indices, maxlen=maxLen, padding='post')\n",
    "X_train_indices.shape"
   ]
  },
  {
   "cell_type": "code",
   "execution_count": null,
   "id": "a271cfda",
   "metadata": {},
   "outputs": [],
   "source": [
    "adam = tf.keras.optimizers.Adam(learning_rate = 0.0001)\n",
    "model.compile(optimizer=adam, loss='binary_crossentropy', metrics=['accuracy'])"
   ]
  },
  {
   "cell_type": "code",
   "execution_count": null,
   "id": "36ceb5d5",
   "metadata": {},
   "outputs": [],
   "source": [
    "history = model.fit(X_train_indices, Y_train, batch_size=56, epochs=15)  "
   ]
  },
  {
   "cell_type": "code",
   "execution_count": null,
   "id": "c9fbdaa5",
   "metadata": {},
   "outputs": [],
   "source": [
    "X_test_indices = tokenizer.texts_to_sequences(X_test)\n",
    "\n",
    "X_test_indices = pad_sequences(X_test_indices, maxlen=maxLen, padding='post')\n",
    "model.evaluate(X_test_indices, Y_test)"
   ]
  },
  {
   "cell_type": "code",
   "execution_count": null,
   "id": "8e5985e5",
   "metadata": {},
   "outputs": [],
   "source": [
    "#['accuracy', 'loss', 'val_accuracy', 'val_loss']\n",
    "plt.plot(history.history['accuracy'])\n",
    "#plt.plot(history.history['val_accuracy'])\n",
    "plt.title('model accuracy')\n",
    "plt.ylabel('accuracy')\n",
    "plt.xlabel('epoch')\n",
    "plt.legend(['train', 'test'], loc='upper left')\n",
    "plt.show()\n",
    "# summarize history for loss\n",
    "plt.plot(history.history['loss'])\n",
    "#plt.plot(history.history['val_loss'])\n",
    "plt.title('model loss')\n",
    "plt.ylabel('loss')\n",
    "plt.xlabel('epoch')\n",
    "plt.legend(['train', 'test'], loc='upper left')\n",
    "plt.show()"
   ]
  },
  {
   "cell_type": "code",
   "execution_count": null,
   "id": "c9f2b600",
   "metadata": {},
   "outputs": [],
   "source": [
    "reviews_list_idx = tokenizer.texts_to_sequences(reviews_list)\n",
    "pred_sentiment=[]\n",
    "def add_score_predictions(data, reviews_list_idx):\n",
    "\n",
    "    data['sentiment score'] = 0\n",
    "\n",
    "    reviews_list_idx = pad_sequences(reviews_list_idx, maxlen=maxLen, padding='post')\n",
    "\n",
    "    review_preds = model.predict(reviews_list_idx)\n",
    "\n",
    "    data['sentiment score'] = review_preds\n",
    "\n",
    "    pred_sentiment = np.array(list(map(lambda x : 'positive' if x > 0.5 else 'negative',review_preds)))\n",
    "\n",
    "    data['predicted sentiment'] = 0\n",
    "\n",
    "    data['predicted sentiment'] = pred_sentiment\n",
    "\n",
    "    return data\n",
    "\n",
    "  \n",
    "data = add_score_predictions(data, reviews_list_idx)\n",
    "data\n"
   ]
  },
  {
   "cell_type": "code",
   "execution_count": null,
   "id": "61ec78e0",
   "metadata": {},
   "outputs": [],
   "source": [
    "preds=model.predict(X_test_indices)\n",
    "pred_senti = np.array(list(map(lambda x : 1 if x > 0.5 else 0,preds)))\n",
    "confusion_matrix(Y_test,pred_senti)"
   ]
  },
  {
   "cell_type": "code",
   "execution_count": null,
   "id": "76c32bbe",
   "metadata": {},
   "outputs": [],
   "source": [
    "accuracy_score(Y_test,pred_senti, normalize=True)"
   ]
  },
  {
   "cell_type": "code",
   "execution_count": null,
   "id": "d776db2b",
   "metadata": {},
   "outputs": [],
   "source": [
    "precision_recall_fscore_support(Y_test,pred_senti,average='binary')"
   ]
  },
  {
   "cell_type": "code",
   "execution_count": null,
   "id": "602efd50",
   "metadata": {},
   "outputs": [],
   "source": [
    "data.head()"
   ]
  }
 ],
 "metadata": {
  "kernelspec": {
   "display_name": "Python 3 (ipykernel)",
   "language": "python",
   "name": "python3"
  },
  "language_info": {
   "codemirror_mode": {
    "name": "ipython",
    "version": 3
   },
   "file_extension": ".py",
   "mimetype": "text/x-python",
   "name": "python",
   "nbconvert_exporter": "python",
   "pygments_lexer": "ipython3",
   "version": "3.9.13"
  }
 },
 "nbformat": 4,
 "nbformat_minor": 5
}
