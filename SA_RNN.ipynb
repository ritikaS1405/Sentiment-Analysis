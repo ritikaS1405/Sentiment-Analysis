{
 "cells": [
  {
   "cell_type": "code",
   "execution_count": null,
   "id": "3f0f278f",
   "metadata": {},
   "outputs": [],
   "source": [
    "import pandas as pd\n",
    "import numpy as np\n",
    "from keras.layers import SimpleRNN, Activation, Dropout, Dense, Input\n",
    "from keras.layers.embeddings import Embedding\n",
    "from keras.models import Model\n",
    "import string\n",
    "import re\n",
    "from keras.preprocessing.text import Tokenizer\n",
    "from keras.preprocessing.sequence import pad_sequences\n",
    "import keras\n",
    "from sklearn.model_selection import train_test_split\n",
    "import tensorflow as tf \n",
    "from keras.models import Sequential\n",
    "import matplotlib.pyplot as plt\n",
    "from sklearn.metrics import confusion_matrix, accuracy_score, precision_recall_fscore_support"
   ]
  },
  {
   "cell_type": "code",
   "execution_count": null,
   "id": "5af4d8d7",
   "metadata": {},
   "outputs": [],
   "source": [
    "data = pd.read_csv('IMDB Dataset.csv')\n",
    "data['review'] = data['review'].str.lower()"
   ]
  },
  {
   "cell_type": "code",
   "execution_count": null,
   "id": "63d741b9",
   "metadata": {},
   "outputs": [],
   "source": [
    "stopwords = [ \"a\", \"about\", \"above\", \"after\", \"again\", \"against\", \"all\", \"am\", \"an\", \"and\", \"any\", \"are\", \"as\", \"at\", \"be\", \"because\", \n",
    "             \"been\", \"before\", \"being\", \"below\", \"between\", \"both\", \"but\", \"by\", \"could\", \"did\", \"do\", \"does\", \"doing\", \"down\", \"during\",\n",
    "             \"each\", \"few\", \"for\", \"from\", \"further\", \"had\", \"has\", \"have\", \"having\", \"he\", \"he'd\", \"he'll\", \"he's\", \"her\", \"here\", \n",
    "             \"here's\", \"hers\", \"herself\", \"him\", \"himself\", \"his\", \"how\", \"how's\", \"i\", \"i'd\", \"i'll\", \"i'm\", \"i've\", \"if\", \"in\", \"into\",\n",
    "             \"is\", \"it\", \"it's\", \"its\", \"itself\", \"let's\", \"me\", \"more\", \"most\", \"my\", \"myself\", \"nor\", \"of\", \"on\", \"once\", \"only\", \"or\",\n",
    "             \"other\", \"ought\", \"our\", \"ours\", \"ourselves\", \"out\", \"over\", \"own\", \"same\", \"she\", \"she'd\", \"she'll\", \"she's\", \"should\", \n",
    "             \"so\", \"some\", \"such\", \"than\", \"that\", \"that's\", \"the\", \"their\", \"theirs\", \"them\", \"themselves\", \"then\", \"there\", \"there's\",\n",
    "             \"these\", \"they\", \"they'd\", \"they'll\", \"they're\", \"they've\", \"this\", \"those\", \"through\", \"to\", \"too\", \"under\", \"until\", \"up\",\n",
    "             \"very\", \"was\", \"we\", \"we'd\", \"we'll\", \"we're\", \"we've\", \"were\", \"what\", \"what's\", \"when\", \"when's\", \"where\", \"where's\",\n",
    "             \"which\", \"while\", \"who\", \"who's\", \"whom\", \"why\", \"why's\", \"with\", \"would\", \"you\", \"you'd\", \"you'll\", \"you're\", \"you've\",\n",
    "             \"your\", \"yours\", \"yourself\", \"yourselves\" ]"
   ]
  },
  {
   "cell_type": "code",
   "execution_count": null,
   "id": "f9d7ded6",
   "metadata": {},
   "outputs": [],
   "source": [
    "def remove_stopwords(data):\n",
    "    data['review without stopwords'] = data['review'].apply(lambda x : ' '.join([word for word in str(x).split() if word not in (stopwords)]))\n",
    "    return data\n",
    "\n",
    "def remove_tags(string):\n",
    "    result = re.sub('<.*?>','',string)\n",
    "    return result"
   ]
  },
  {
   "cell_type": "code",
   "execution_count": null,
   "id": "342c643f",
   "metadata": {},
   "outputs": [],
   "source": [
    "data_without_stopwords = remove_stopwords(data)\n",
    "data_without_stopwords['clean_review']= data_without_stopwords['review without stopwords'].apply(lambda cw : remove_tags(cw))\n",
    "data_without_stopwords['clean_review'] = data_without_stopwords['clean_review'].str.replace('[{}]'.format(string.punctuation), ' ')"
   ]
  },
  {
   "cell_type": "code",
   "execution_count": null,
   "id": "2a3f461e",
   "metadata": {},
   "outputs": [],
   "source": [
    "data_without_stopwords.head()"
   ]
  },
  {
   "cell_type": "code",
   "execution_count": null,
   "id": "2101fd7d",
   "metadata": {},
   "outputs": [],
   "source": []
  },
  {
   "cell_type": "code",
   "execution_count": null,
   "id": "ac05e987",
   "metadata": {},
   "outputs": [],
   "source": [
    "reviews_list = []\n",
    "for i in range(len(reviews)):\n",
    "    reviews_list.append(reviews[i])\n",
    "sentiment = data_without_stopwords['sentiment']\n",
    "y = np.array(list(map(lambda x: 1 if x==\"positive\" else 0, sentiment)))\n",
    "y"
   ]
  },
  {
   "cell_type": "code",
   "execution_count": null,
   "id": "81bc1907",
   "metadata": {},
   "outputs": [],
   "source": [
    "X_train, X_test,Y_train, Y_test = train_test_split(reviews_list, y, test_size=0.3, random_state = 45)\n",
    "len(X_train)"
   ]
  },
  {
   "cell_type": "code",
   "execution_count": null,
   "id": "93eb66a0",
   "metadata": {},
   "outputs": [],
   "source": [
    "tokenizer =Tokenizer(num_words=5000)\n",
    "tokenizer.fit_on_texts(X_train)\n",
    "words_to_index = tokenizer.word_index\n",
    "vocab_len=len(words_to_index)\n",
    "maxLen=150\n",
    "len(words_to_index)"
   ]
  },
  {
   "cell_type": "code",
   "execution_count": null,
   "id": "351f779c",
   "metadata": {},
   "outputs": [],
   "source": [
    "def imdb_rating(input_shape):\n",
    "\n",
    "    X_indices = Input(input_shape)\n",
    "\n",
    "    embeddings= Embedding(input_dim=vocab_len, output_dim=50, input_length=maxLen)(X_indices) \n",
    "    \n",
    "    X = SimpleRNN(150, return_sequences=True)(embeddings)\n",
    "     \n",
    "    X = Dropout(0.3)(X)\n",
    "\n",
    "    X = SimpleRNN(100, return_sequences=True)(X)\n",
    "    \n",
    "    X = Dropout(0.3)(X)\n",
    "\n",
    "    X = SimpleRNN(50)(X)\n",
    "\n",
    "    X = Dense(1, activation='sigmoid')(X)\n",
    "\n",
    "    model = Model(inputs=X_indices, outputs=X)\n",
    "\n",
    "    return model"
   ]
  },
  {
   "cell_type": "code",
   "execution_count": null,
   "id": "d80530e4",
   "metadata": {},
   "outputs": [],
   "source": [
    "model = imdb_rating((maxLen,))\n",
    "model.summary()"
   ]
  },
  {
   "cell_type": "code",
   "execution_count": null,
   "id": "fbb6b997",
   "metadata": {},
   "outputs": [],
   "source": [
    "X_train_indices = tokenizer.texts_to_sequences(X_train)\n",
    "X_train_indices = pad_sequences(X_train_indices, maxlen=maxLen, padding='post')\n",
    "X_train_indices.shape"
   ]
  },
  {
   "cell_type": "code",
   "execution_count": null,
   "id": "3f9ab739",
   "metadata": {},
   "outputs": [],
   "source": [
    "adam = tf.keras.optimizers.Adam(learning_rate = 0.0001)\n",
    "model.compile(optimizer=adam, loss='binary_crossentropy', metrics=['accuracy'])\n",
    "#print(history.history.keys())\n",
    "#['accuracy', 'loss', 'val_accuracy', 'val_loss']"
   ]
  },
  {
   "cell_type": "code",
   "execution_count": null,
   "id": "952823f0",
   "metadata": {},
   "outputs": [],
   "source": [
    "history=model.fit(X_train_indices, Y_train, batch_size=56, epochs=15)"
   ]
  },
  {
   "cell_type": "code",
   "execution_count": null,
   "id": "8cc80bbd",
   "metadata": {},
   "outputs": [],
   "source": [
    "X_test_indices = tokenizer.texts_to_sequences(X_test)\n",
    "\n",
    "X_test_indices = pad_sequences(X_test_indices, maxlen=maxLen, padding='post')\n",
    "history_1 = model.evaluate(X_test_indices, Y_test)"
   ]
  },
  {
   "cell_type": "code",
   "execution_count": null,
   "id": "ea5f9ce9",
   "metadata": {},
   "outputs": [],
   "source": [
    "#['accuracy', 'loss', 'val_accuracy', 'val_loss']\n",
    "plt.plot(history.history['accuracy'])\n",
    "#plt.plot(history.history['val_accuracy'])\n",
    "plt.title('model accuracy')\n",
    "plt.ylabel('accuracy')\n",
    "plt.xlabel('epoch')\n",
    "plt.legend(['train', 'test'], loc='upper left')\n",
    "plt.show()\n",
    "# summarize history for loss\n",
    "plt.plot(history.history['loss'])\n",
    "#plt.plot(history.history['val_loss'])\n",
    "plt.title('model loss')\n",
    "plt.ylabel('loss')\n",
    "plt.xlabel('epoch')\n",
    "plt.legend(['train', 'test'], loc='upper left')\n",
    "plt.show()"
   ]
  },
  {
   "cell_type": "code",
   "execution_count": null,
   "id": "9b44b78a",
   "metadata": {},
   "outputs": [],
   "source": [
    "reviews_list_idx = tokenizer.texts_to_sequences(reviews_list)\n",
    "pred_sentiment=[]\n",
    "def add_score_predictions(data, reviews_list_idx):\n",
    "\n",
    "    data['sentiment score'] = 0\n",
    "\n",
    "    reviews_list_idx = pad_sequences(reviews_list_idx, maxlen=maxLen, padding='post')\n",
    "\n",
    "    review_preds = model.predict(reviews_list_idx)\n",
    "\n",
    "    data['sentiment score'] = review_preds\n",
    "\n",
    "    pred_sentiment = np.array(list(map(lambda x : 'positive' if x > 0.5 else 'negative',review_preds)))\n",
    "\n",
    "    data['predicted sentiment'] = 0\n",
    "\n",
    "    data['predicted sentiment'] = pred_sentiment\n",
    "\n",
    "    return data\n",
    "\n",
    "  \n",
    "data = add_score_predictions(data, reviews_list_idx)\n",
    "data"
   ]
  },
  {
   "cell_type": "code",
   "execution_count": null,
   "id": "301ddb73",
   "metadata": {},
   "outputs": [],
   "source": [
    "preds=model.predict(X_test_indices)\n",
    "pred_senti = np.array(list(map(lambda x : 1 if x > 0.5 else 0,preds)))\n",
    "confusion_matrix(Y_test,pred_senti)"
   ]
  },
  {
   "cell_type": "code",
   "execution_count": null,
   "id": "41da2252",
   "metadata": {},
   "outputs": [],
   "source": [
    "accuracy_score(Y_test,pred_senti, normalize=True)"
   ]
  },
  {
   "cell_type": "code",
   "execution_count": null,
   "id": "ed763cc9",
   "metadata": {},
   "outputs": [],
   "source": [
    "precision_recall_fscore_support(Y_test,pred_senti,average='binary')"
   ]
  }
 ],
 "metadata": {
  "kernelspec": {
   "display_name": "Python 3 (ipykernel)",
   "language": "python",
   "name": "python3"
  },
  "language_info": {
   "codemirror_mode": {
    "name": "ipython",
    "version": 3
   },
   "file_extension": ".py",
   "mimetype": "text/x-python",
   "name": "python",
   "nbconvert_exporter": "python",
   "pygments_lexer": "ipython3",
   "version": "3.9.13"
  }
 },
 "nbformat": 4,
 "nbformat_minor": 5
}
